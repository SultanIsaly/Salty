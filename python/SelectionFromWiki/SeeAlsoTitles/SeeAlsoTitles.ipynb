{
 "cells": [
  {
   "cell_type": "code",
   "execution_count": 8,
   "metadata": {
    "collapsed": false
   },
   "outputs": [],
   "source": [
    "import selection\n",
    "import requests"
   ]
  },
  {
   "cell_type": "code",
   "execution_count": 10,
   "metadata": {
    "collapsed": false
   },
   "source": [
    "def SeeAlsoListTitles(title):\n",
    "    text = sectionContent('See_also',title)\n",
    "    titles = text.split(\"[[\" or \"]]\")\n",
    "    titleslist = []\n",
    "    for i in range(1,len(titles) - 1):\n",
    "        titles[i] = titles[i][:-4]\n",
    "        titleslist.append(titles[i])\n",
    "    titleslist.append(titles[len(titles) - 1][:-2])\n",
    "    return titleslist"
   ]
  }
 ],
 "metadata": {
  "kernelspec": {
   "display_name": "Python 3",
   "language": "python",
   "name": "python3"
  },
  "language_info": {
   "codemirror_mode": {
    "name": "ipython",
    "version": 3
   },
   "file_extension": ".py",
   "mimetype": "text/x-python",
   "name": "python",
   "nbconvert_exporter": "python",
   "pygments_lexer": "ipython3",
   "version": "3.5.1"
  }
 },
 "nbformat": 4,
 "nbformat_minor": 0
}
