{
 "cells": [
  {
   "cell_type": "code",
   "execution_count": 2,
   "metadata": {
    "collapsed": true
   },
   "outputs": [],
   "source": [
    "import requests\n",
    "import os\n",
    "import json"
   ]
  },
  {
   "cell_type": "code",
   "execution_count": 3,
   "metadata": {
    "collapsed": false
   },
   "outputs": [],
   "source": [
    "def findArticle(title):\n",
    "    apiEndPoint = 'https://en.wikipedia.org/w/api.php'\n",
    "    param = {\n",
    "             'action': 'query',\n",
    "             'format': 'json',\n",
    "             'titles': title,\n",
    "             'prop':'extracts',\n",
    "             'explaintext':True,\n",
    "             'exsectionformat':'plain'\n",
    "            }\n",
    "    resp = requests.get(apiEndPoint,params = param)\n",
    "    res = resp.json()['query']['pages']\n",
    "    return res[list(res)[0]]['extract']"
   ]
  },
  {
   "cell_type": "code",
   "execution_count": 10,
   "metadata": {
    "collapsed": false
   },
   "outputs": [],
   "source": [
    "def getWikiArticles(titlesFile,direct):\n",
    "    fin = open(titlesFile,'r')\n",
    "    titles = fin.readlines()\n",
    "    fin.close()\n",
    "    parentdir = os.getcwd()\n",
    "    os.chdir(direct)\n",
    "    for title in titles:\n",
    "        title = title[:-1]\n",
    "        text = findArticle(title)\n",
    "        text.format('json')\n",
    "        open(title,'a').close()\n",
    "        with open(title, 'w') as outfile:\n",
    "            json.dump(text, outfile)\n",
    "        outfile.close()\n",
    "    os.chdir(parentdir)"
   ]
  }
 ],
 "metadata": {
  "kernelspec": {
   "display_name": "Python 3",
   "language": "python",
   "name": "python3"
  },
  "language_info": {
   "codemirror_mode": {
    "name": "ipython",
    "version": 3
   },
   "file_extension": ".py",
   "mimetype": "text/x-python",
   "name": "python",
   "nbconvert_exporter": "python",
   "pygments_lexer": "ipython3",
   "version": "3.5.1"
  }
 },
 "nbformat": 4,
 "nbformat_minor": 0
}
