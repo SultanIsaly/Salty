{
 "cells": [
  {
   "cell_type": "code",
   "execution_count": 112,
   "metadata": {
    "collapsed": true
   },
   "outputs": [],
   "source": [
    "def sectionTitleList(titles):\n",
    "    param = {\n",
    "            'action':'parse',\n",
    "            'page': titles,\n",
    "            'format':'json',\n",
    "            'prop':'sections',\n",
    "            }\n",
    "    ApiEndPoint = 'https://en.wikipedia.org/w/api.php'\n",
    "    resp = requests.get(ApiEndPoint, params = param)\n",
    "    sections = resp.json()['parse']['sections']\n",
    "    titleSections = list()\n",
    "    for section in sections:\n",
    "        titleSections.append(section['anchor'])\n",
    "    return titleSections    "
   ]
  },
  {
   "cell_type": "code",
   "execution_count": 183,
   "metadata": {
    "collapsed": true
   },
   "outputs": [],
   "source": [
    "def sectionContent(titleSection,pageTitle):\n",
    "    ApiEndPoint = 'https://en.wikipedia.org/w/api.php'\n",
    "    sections = sectionTitleList(pageTitle)\n",
    "    number = sections.index(titleSection)\n",
    "    param = {\n",
    "            'action': 'query',\n",
    "            'titles': pageTitle,\n",
    "            'format':'json',\n",
    "            'prop':'revisions',\n",
    "            'rvprop':'content',\n",
    "            'rvsection':number + 1\n",
    "            }\n",
    "    resp = requests.get(ApiEndPoint, params = param)\n",
    "    section = resp.json()['query']['pages']\n",
    "    section = section[list(section)[0]]['revisions']\n",
    "    section = section[0]\n",
    "    return section['*']"
   ]
  },
  {
   "cell_type": "code",
   "execution_count": 184,
   "metadata": {
    "collapsed": true
   },
   "outputs": [],
   "source": [
    "import requests"
   ]
  },
  {
   "cell_type": "code",
   "execution_count": 185,
   "metadata": {
    "collapsed": false
   },
   "outputs": [
    {
     "name": "stdout",
     "output_type": "stream",
     "text": [
      "['Life', 'Early_life', 'Studies_in_Paris', 'Literary_debut', 'Family', 'Hetzel', 'Later_years', 'Death_and_posthumous_publications', 'Works', 'Literary_reception', 'English_translations', 'Relationship_with_science_fiction', 'Legacy', 'Notes', 'Footnotes', 'References', 'Citations', 'External_links']\n"
     ]
    }
   ],
   "source": [
    "print(sectionTitleList('Jules Verne'))"
   ]
  },
  {
   "cell_type": "code",
   "execution_count": 189,
   "metadata": {
    "collapsed": false
   },
   "outputs": [
    {
     "name": "stdout",
     "output_type": "stream",
     "text": [
      "===Early life===\n",
      "[[File:JMW Turner - Nantes from the Ile Feydeau.jpg|thumbnail|left|Nantes from Île Feydeau, around the time of Verne's birth]]\n",
      "Jules Gabriel Verne was born on 8 February 1828 on Île Feydeau, a small artificial island on the [[Loire River]] within the town of [[Nantes]], in No. 4 Rue de Clisson, the house of his maternal grandmother Dame Sophie Allotte de la Fuÿe.{{sfn|Butcher|2006|pp=5–6}} His parents were Pierre Verne, an attorney originally from [[Provins]], and Sophie Allote de la Fuÿe, a Nantes woman from a local family of navigators and shipowners, of distant Scottish descent.{{sfn|Butcher|2007}}{{efn|name=fuye}} In 1829, the Verne family moved some hundred meters away to No. 2 Quai Jean-Bart, where Verne's brother Paul was born the same year. Three sisters, Anna, Mathilde, and Marie, would follow (in 1836, 1839, and 1842, respectively).{{sfn|Butcher|2007}}\n",
      "\n",
      "In 1834, at the age of six, Verne was sent to boarding school at 5 Place du Bouffay in Nantes.  The teacher, Mme Sambin, was the widow of a naval captain who had disappeared some 30 years before.{{sfn|Jules-Verne|1976|p=3}} Mme Sambin often told the students that her husband was a shipwrecked castaway and that he would eventually return like [[Robinson Crusoe]] from his desert island paradise.{{sfn|Allotte de la Fuÿe|1956|p=20}} The theme of the [[Robinsonade]] would stay with Verne throughout his life and appear in many of his novels, including ''[[The Mysterious Island]]'' (1874), ''[[Second Fatherland]]'' (1900), and ''[[The School for Robinsons]]'' (1882).\n",
      "\n",
      "In 1836, Verne went on to École Saint‑Stanislas, a Catholic school suiting the pious religious tastes of his father. Verne quickly distinguished himself in ''mémoire'' (recitation from memory), geography, Greek, Latin, and singing.{{sfn|Lottmann|1996|p=9}} In the same year, 1836, Pierre Verne bought a [[vacation house]] at 29 Rue des Réformés in the village of Chantenay (now part of Nantes) on the [[Loire River]].{{sfn|Terres d'écrivains|2003}} In his brief memoir \"Souvenirs d’enfance et de jeunesse\" (\"Memories of Childhood and Youth\", 1890), Verne recalled a deep fascination with the river and with the many [[merchant vessel]]s navigating it.{{sfn|Verne|1890|loc=§2}} He also took vacations at [[Brains, Loire-Atlantique|Brains]], in the house of his uncle Prudent Allotte, a retired shipowner, who had gone around the world and served as mayor of Brains from 1828 to 1837. Verne took joy in playing interminable rounds of the [[Game of the Goose]] with his uncle, and both the game and his uncle's name would be memorialized in two late novels (''[[The Will of an Eccentric]]'' (1900) and ''[[Robur the Conqueror]]'' (1886), respectively).{{sfn|Verne|1890|loc=§2}}{{sfn|Compère|1997b|p=35}}\n",
      "\n",
      "Legend has it that in 1839, at the age of 11, Verne secretly procured a spot as [[cabin boy]] on the three-mast ship ''Coralie'', with the intention of traveling to the Indies and bringing back a coral necklace for his cousin Caroline. The ship was due to set out for the Indies that evening but stopped first at [[Paimboeuf]], where Pierre Verne arrived just in time to catch his son and make him promise to travel \"only in his imagination\".{{sfn|Allotte de la Fuÿe|1956|p=26}} It is now known that the legend is an exaggerated tale invented by Verne's first biographer, his niece Marguerite Allotte de la Füye, though it may have been inspired by a real incident.{{sfn|Pérez|de Vries|Margot|2008|loc=[http://jv.gilead.org.il/FAQ/#C9 C9]}}\n",
      "[[File:Nantes - lycée Clemenceau.jpg|thumb|The Lycée Royal in Nantes (now the Lycée Georges-Clemenceau), where Jules Verne studied]]\n",
      "In 1840, the Vernes moved again to a large apartment at No. 6 Rue Jean-Jacques-Rousseau, where the family's youngest child, Marie, was born in 1842.{{sfn |Terres d'écrivains|2003}} In the same year Verne entered another religious school, the Petit Séminaire de Saint-Donatien, as a lay student. His unfinished novel ''Un prêtre en 1839'' (''A Priest in 1839''), written in his teens and the earliest of his prose works to survive,{{sfn|Lottmann|1996|p=17}} describes the seminary in disparaging terms.{{sfn|Lottmann|1996|p=9}} From 1844 to 1846, Verne and his brother were enrolled in the Lycée Royal (now the Lycée Georges-Clemenceau in Nantes). After finishing classes in rhetoric and philosophy, he took the [[baccalauréat]] at [[Rennes]] and received the grade \"Fairly good\" on 29 July 1846.{{sfn|Compère|1997a|p=20}}\n",
      "\n",
      "By 1847, when Verne was 19, he had taken seriously to writing long works in the style of [[Victor Hugo]], beginning ''Un prêtre en 1839'' and seeing two verse tragedies, ''Alexandre VI'' and ''La Conspiration des poudres'' (''The Gunpowder Plot''), to completion.{{sfn|Lottmann|1996|p=17}} However, his father took it for granted that Verne, being the firstborn son of the family, would not attempt to make money in literature but would instead inherit the family law practice.{{sfn|Lottmann|1996|p=19}}\n",
      "\n",
      "In 1847, Verne's father sent him to Paris, primarily to begin his studies in [[law school]], and secondarily (according to family legend) to distance him temporarily from Nantes.{{sfn|Jules-Verne|1976|p=10}}{{sfn|Lottmann|1996|p=14}} His cousin Caroline, with whom he was in love, was married on 27 April 1847 to Émile Dezaunay, a man of 40, with whom she would have five children.{{sfn|Martin|1973}}\n",
      "\n",
      "After a short stay in Paris, where he passed first-year law exams, Verne returned to Nantes for his father's help in preparing for the second year (provincial law students were in that era required to go to Paris to take exams).{{sfn|Compère|1997c|p=41}} While in Nantes, he met Rose Herminie Arnaud Grossetière, a young woman one year his senior, and fell intensely in love with her. He wrote and dedicated some 30 poems to her, including \"La Fille de l'air\" (\"The Daughter of Air\"), which describes her as \"blonde and enchanting / winged and transparent\".{{sfn|Lottmann|1996|pp=14–15}} His passion seems to have been reciprocated, at least for a short time,{{sfn|Lottmann|1996|p=14}} but Grossetière's parents frowned upon the idea of their daughter marrying a young student of uncertain future. They married her instead to Armand Terrien de la Haye, a rich landowner 10 years her senior, on 19 July 1848.{{sfn|Martin|1974}}\n",
      "\n",
      "The sudden marriage sent Verne into deep frustration. He wrote a hallucinatory letter to his mother, apparently composed in a state of half-drunkenness, in which under pretext of a dream he described his misery.{{sfn|Lottmann|1996|p=24}} This requited but aborted love affair seems to have permanently marked the author and his work, and his novels include a significant number of young women married against their will (Gérande in \"[[Master Zacharius]]\" (1854), Sava in ''[[Mathias Sandorf]]'' (1885), Ellen in ''[[A Floating City]]'' (1871), etc.), to such an extent that the scholar Christian Chelebourg attributed the recurring theme to a \"Herminie complex\".{{sfn|Chelebourg|1986}} The incident also led Verne to bear a grudge against his birthplace and Nantes society, which he criticized in his poem \"La sixième ville de France\" (\"The Sixth City of France\").{{sfn|Lottmann|1996|p=16}}{{sfn|Verne|2000}}\n"
     ]
    }
   ],
   "source": [
    "print(sectionContent('Early_life','Jules Verne'))"
   ]
  },
  {
   "cell_type": "code",
   "execution_count": null,
   "metadata": {
    "collapsed": true
   },
   "outputs": [],
   "source": []
  }
 ],
 "metadata": {
  "kernelspec": {
   "display_name": "Python 3",
   "language": "python",
   "name": "python3"
  },
  "language_info": {
   "codemirror_mode": {
    "name": "ipython",
    "version": 3
   },
   "file_extension": ".py",
   "mimetype": "text/x-python",
   "name": "python",
   "nbconvert_exporter": "python",
   "pygments_lexer": "ipython3",
   "version": "3.5.1"
  }
 },
 "nbformat": 4,
 "nbformat_minor": 0
}
