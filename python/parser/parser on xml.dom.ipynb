{
 "cells": [
  {
   "cell_type": "code",
   "execution_count": 342,
   "metadata": {
    "collapsed": true
   },
   "outputs": [],
   "source": [
    "import xml.dom\n",
    "import operator\n",
    "file = open('./SentiRuEval_rest_markup_train.xml', 'r', encoding='utf-8')"
   ]
  },
  {
   "cell_type": "code",
   "execution_count": 343,
   "metadata": {
    "collapsed": false
   },
   "outputs": [],
   "source": [
    "doc = xml.dom.minidom.parse(file)"
   ]
  },
  {
   "cell_type": "code",
   "execution_count": 344,
   "metadata": {
    "collapsed": true
   },
   "outputs": [],
   "source": [
    "nodes = doc.childNodes"
   ]
  },
  {
   "cell_type": "code",
   "execution_count": 345,
   "metadata": {
    "collapsed": false
   },
   "outputs": [],
   "source": [
    "nodes = nodes[0].childNodes\n",
    "result = dict()"
   ]
  },
  {
   "cell_type": "code",
   "execution_count": 348,
   "metadata": {
    "collapsed": false
   },
   "outputs": [],
   "source": [
    "for review in nodes:\n",
    "    #мы на теге review\n",
    "    value = review.childNodes\n",
    "    value = value[1::2]\n",
    "    for meta in value:\n",
    "        if meta.localName == 'meta':\n",
    "            metaChild = meta.childNodes\n",
    "            for obj in metaChild:\n",
    "                if obj.localName == 'object':\n",
    "                    name = obj.childNodes[0].nodeValue\n",
    "                    if name not in result:\n",
    "                        result[name] = 1\n",
    "                    else:\n",
    "                        result[name] += 1                        "
   ]
  },
  {
   "cell_type": "code",
   "execution_count": 349,
   "metadata": {
    "collapsed": true
   },
   "outputs": [],
   "source": [
    "out = open('./output.txt', 'w', encoding='utf-8')"
   ]
  },
  {
   "cell_type": "code",
   "execution_count": 350,
   "metadata": {
    "collapsed": false
   },
   "outputs": [],
   "source": [
    "sorted_name = sorted(result.items(), key=operator.itemgetter(0))\n",
    "sorted_freq = sorted(sorted_name, key=operator.itemgetter(1), reverse=True)\n",
    "\n",
    "for k, v in sorted_freq:\n",
    "    print(k, v, sep=': ', end='\\n', file=out)"
   ]
  },
  {
   "cell_type": "code",
   "execution_count": null,
   "metadata": {
    "collapsed": true
   },
   "outputs": [],
   "source": []
  }
 ],
 "metadata": {
  "kernelspec": {
   "display_name": "Python 3",
   "language": "python",
   "name": "python3"
  },
  "language_info": {
   "codemirror_mode": {
    "name": "ipython",
    "version": 3
   },
   "file_extension": ".py",
   "mimetype": "text/x-python",
   "name": "python",
   "nbconvert_exporter": "python",
   "pygments_lexer": "ipython3",
   "version": "3.5.1"
  }
 },
 "nbformat": 4,
 "nbformat_minor": 0
}
